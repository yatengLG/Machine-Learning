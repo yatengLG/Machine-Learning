{
 "cells": [
  {
   "cell_type": "code",
   "execution_count": 1,
   "metadata": {},
   "outputs": [],
   "source": [
    "from KNN import knn\n",
    "from Utils.Data_Reader import data_reader\n",
    "import pandas"
   ]
  },
  {
   "cell_type": "markdown",
   "metadata": {},
   "source": [
    "# k近邻算法"
   ]
  },
  {
   "cell_type": "markdown",
   "metadata": {},
   "source": [
    "# 一.例子1 knn iris数据集"
   ]
  },
  {
   "cell_type": "markdown",
   "metadata": {},
   "source": [
    "## 导入iris数据"
   ]
  },
  {
   "cell_type": "code",
   "execution_count": 2,
   "metadata": {},
   "outputs": [
    {
     "name": "stdout",
     "output_type": "stream",
     "text": [
      " dataset KNN/iris.csv has sample :150 , features :4 , label :3\n",
      " train sample : 120 , test sample :30 \n"
     ]
    }
   ],
   "source": [
    "iris_reader = data_reader('KNN/iris.csv',split_rate=0.8)\n",
    "train_features, train_labels, test_features, test_labels = iris_reader.get_all()"
   ]
  },
  {
   "cell_type": "markdown",
   "metadata": {},
   "source": [
    "## 观察数据, iris数据  特征之间差异不大,均是以 cm长度为单位的"
   ]
  },
  {
   "cell_type": "code",
   "execution_count": 3,
   "metadata": {},
   "outputs": [
    {
     "data": {
      "text/html": [
       "<div>\n",
       "<style scoped>\n",
       "    .dataframe tbody tr th:only-of-type {\n",
       "        vertical-align: middle;\n",
       "    }\n",
       "\n",
       "    .dataframe tbody tr th {\n",
       "        vertical-align: top;\n",
       "    }\n",
       "\n",
       "    .dataframe thead th {\n",
       "        text-align: right;\n",
       "    }\n",
       "</style>\n",
       "<table border=\"1\" class=\"dataframe\">\n",
       "  <thead>\n",
       "    <tr style=\"text-align: right;\">\n",
       "      <th></th>\n",
       "      <th>sepal length (cm)</th>\n",
       "      <th>sepal width (cm)</th>\n",
       "      <th>petal length (cm)</th>\n",
       "      <th>petal width (cm)</th>\n",
       "    </tr>\n",
       "  </thead>\n",
       "  <tbody>\n",
       "    <tr>\n",
       "      <th>0</th>\n",
       "      <td>5.9</td>\n",
       "      <td>3.2</td>\n",
       "      <td>4.8</td>\n",
       "      <td>1.8</td>\n",
       "    </tr>\n",
       "    <tr>\n",
       "      <th>1</th>\n",
       "      <td>5.4</td>\n",
       "      <td>3.0</td>\n",
       "      <td>4.5</td>\n",
       "      <td>1.5</td>\n",
       "    </tr>\n",
       "    <tr>\n",
       "      <th>2</th>\n",
       "      <td>5.0</td>\n",
       "      <td>3.5</td>\n",
       "      <td>1.3</td>\n",
       "      <td>0.3</td>\n",
       "    </tr>\n",
       "    <tr>\n",
       "      <th>3</th>\n",
       "      <td>5.8</td>\n",
       "      <td>2.7</td>\n",
       "      <td>3.9</td>\n",
       "      <td>1.2</td>\n",
       "    </tr>\n",
       "    <tr>\n",
       "      <th>4</th>\n",
       "      <td>4.9</td>\n",
       "      <td>3.6</td>\n",
       "      <td>1.4</td>\n",
       "      <td>0.1</td>\n",
       "    </tr>\n",
       "  </tbody>\n",
       "</table>\n",
       "</div>"
      ],
      "text/plain": [
       "   sepal length (cm)  sepal width (cm)  petal length (cm)  petal width (cm)\n",
       "0                5.9               3.2                4.8               1.8\n",
       "1                5.4               3.0                4.5               1.5\n",
       "2                5.0               3.5                1.3               0.3\n",
       "3                5.8               2.7                3.9               1.2\n",
       "4                4.9               3.6                1.4               0.1"
      ]
     },
     "execution_count": 3,
     "metadata": {},
     "output_type": "execute_result"
    }
   ],
   "source": [
    "train_features_frame = pandas.DataFrame(train_features, columns=iris_reader.feature_names)\n",
    "train_features_frame.head()"
   ]
  },
  {
   "cell_type": "markdown",
   "metadata": {},
   "source": [
    "## 导入knn模型,并测试\n",
    "\n",
    "norm=False, 数据不做归一化处理"
   ]
  },
  {
   "cell_type": "code",
   "execution_count": 4,
   "metadata": {},
   "outputs": [
    {
     "name": "stdout",
     "output_type": "stream",
     "text": [
      "acc : 100.00%\n"
     ]
    }
   ],
   "source": [
    "fn = knn(samples=train_features,labels=train_labels,k=5, norm=False)\n",
    "unacc = 0\n",
    "for test_feature, test_label in zip(test_features,test_labels):\n",
    "\n",
    "    label = fn(test_feature)\n",
    "    if label != test_label:\n",
    "        print(label, '---',test_label)\n",
    "        unacc+=1\n",
    "\n",
    "print(\"acc : {:.2f}%\".format((1-unacc/len(test_labels))*100))"
   ]
  },
  {
   "cell_type": "markdown",
   "metadata": {},
   "source": [
    "# 二.例子2 knn wine_data数据集"
   ]
  },
  {
   "cell_type": "markdown",
   "metadata": {},
   "source": [
    "## 导入wine_data数据"
   ]
  },
  {
   "cell_type": "code",
   "execution_count": 5,
   "metadata": {},
   "outputs": [
    {
     "name": "stdout",
     "output_type": "stream",
     "text": [
      " dataset KNN/wine_data.csv has sample :178 , features :13 , label :3\n",
      " train sample : 142 , test sample :36 \n"
     ]
    }
   ],
   "source": [
    "iris_reader = data_reader('KNN/wine_data.csv',split_rate=0.8)\n",
    "train_features, train_labels, test_features, test_labels = iris_reader.get_all()"
   ]
  },
  {
   "cell_type": "markdown",
   "metadata": {},
   "source": [
    "## wine_data数据 分布不一致"
   ]
  },
  {
   "cell_type": "code",
   "execution_count": 6,
   "metadata": {},
   "outputs": [
    {
     "data": {
      "text/html": [
       "<div>\n",
       "<style scoped>\n",
       "    .dataframe tbody tr th:only-of-type {\n",
       "        vertical-align: middle;\n",
       "    }\n",
       "\n",
       "    .dataframe tbody tr th {\n",
       "        vertical-align: top;\n",
       "    }\n",
       "\n",
       "    .dataframe thead th {\n",
       "        text-align: right;\n",
       "    }\n",
       "</style>\n",
       "<table border=\"1\" class=\"dataframe\">\n",
       "  <thead>\n",
       "    <tr style=\"text-align: right;\">\n",
       "      <th></th>\n",
       "      <th>alcohol</th>\n",
       "      <th>malic_acid</th>\n",
       "      <th>ash</th>\n",
       "      <th>alcalinity_of_ash</th>\n",
       "      <th>magnesium</th>\n",
       "      <th>total_phenols</th>\n",
       "      <th>flavanoids</th>\n",
       "      <th>nonflavanoid_phenols</th>\n",
       "      <th>proanthocyanins</th>\n",
       "      <th>color_intensity</th>\n",
       "      <th>hue</th>\n",
       "      <th>od280/od315_of_diluted_wines</th>\n",
       "      <th>proline</th>\n",
       "    </tr>\n",
       "  </thead>\n",
       "  <tbody>\n",
       "    <tr>\n",
       "      <th>0</th>\n",
       "      <td>14.12</td>\n",
       "      <td>1.48</td>\n",
       "      <td>2.32</td>\n",
       "      <td>16.8</td>\n",
       "      <td>95.0</td>\n",
       "      <td>2.20</td>\n",
       "      <td>2.43</td>\n",
       "      <td>0.26</td>\n",
       "      <td>1.57</td>\n",
       "      <td>5.00</td>\n",
       "      <td>1.17</td>\n",
       "      <td>2.82</td>\n",
       "      <td>1280.0</td>\n",
       "    </tr>\n",
       "    <tr>\n",
       "      <th>1</th>\n",
       "      <td>12.82</td>\n",
       "      <td>3.37</td>\n",
       "      <td>2.30</td>\n",
       "      <td>19.5</td>\n",
       "      <td>88.0</td>\n",
       "      <td>1.48</td>\n",
       "      <td>0.66</td>\n",
       "      <td>0.40</td>\n",
       "      <td>0.97</td>\n",
       "      <td>10.26</td>\n",
       "      <td>0.72</td>\n",
       "      <td>1.75</td>\n",
       "      <td>685.0</td>\n",
       "    </tr>\n",
       "    <tr>\n",
       "      <th>2</th>\n",
       "      <td>11.96</td>\n",
       "      <td>1.09</td>\n",
       "      <td>2.30</td>\n",
       "      <td>21.0</td>\n",
       "      <td>101.0</td>\n",
       "      <td>3.38</td>\n",
       "      <td>2.14</td>\n",
       "      <td>0.13</td>\n",
       "      <td>1.65</td>\n",
       "      <td>3.21</td>\n",
       "      <td>0.99</td>\n",
       "      <td>3.13</td>\n",
       "      <td>886.0</td>\n",
       "    </tr>\n",
       "    <tr>\n",
       "      <th>3</th>\n",
       "      <td>11.62</td>\n",
       "      <td>1.99</td>\n",
       "      <td>2.28</td>\n",
       "      <td>18.0</td>\n",
       "      <td>98.0</td>\n",
       "      <td>3.02</td>\n",
       "      <td>2.26</td>\n",
       "      <td>0.17</td>\n",
       "      <td>1.35</td>\n",
       "      <td>3.25</td>\n",
       "      <td>1.16</td>\n",
       "      <td>2.96</td>\n",
       "      <td>345.0</td>\n",
       "    </tr>\n",
       "    <tr>\n",
       "      <th>4</th>\n",
       "      <td>13.45</td>\n",
       "      <td>3.70</td>\n",
       "      <td>2.60</td>\n",
       "      <td>23.0</td>\n",
       "      <td>111.0</td>\n",
       "      <td>1.70</td>\n",
       "      <td>0.92</td>\n",
       "      <td>0.43</td>\n",
       "      <td>1.46</td>\n",
       "      <td>10.68</td>\n",
       "      <td>0.85</td>\n",
       "      <td>1.56</td>\n",
       "      <td>695.0</td>\n",
       "    </tr>\n",
       "  </tbody>\n",
       "</table>\n",
       "</div>"
      ],
      "text/plain": [
       "   alcohol  malic_acid   ash  alcalinity_of_ash  magnesium  total_phenols  \\\n",
       "0    14.12        1.48  2.32               16.8       95.0           2.20   \n",
       "1    12.82        3.37  2.30               19.5       88.0           1.48   \n",
       "2    11.96        1.09  2.30               21.0      101.0           3.38   \n",
       "3    11.62        1.99  2.28               18.0       98.0           3.02   \n",
       "4    13.45        3.70  2.60               23.0      111.0           1.70   \n",
       "\n",
       "   flavanoids  nonflavanoid_phenols  proanthocyanins  color_intensity   hue  \\\n",
       "0        2.43                  0.26             1.57             5.00  1.17   \n",
       "1        0.66                  0.40             0.97            10.26  0.72   \n",
       "2        2.14                  0.13             1.65             3.21  0.99   \n",
       "3        2.26                  0.17             1.35             3.25  1.16   \n",
       "4        0.92                  0.43             1.46            10.68  0.85   \n",
       "\n",
       "   od280/od315_of_diluted_wines  proline  \n",
       "0                          2.82   1280.0  \n",
       "1                          1.75    685.0  \n",
       "2                          3.13    886.0  \n",
       "3                          2.96    345.0  \n",
       "4                          1.56    695.0  "
      ]
     },
     "execution_count": 6,
     "metadata": {},
     "output_type": "execute_result"
    }
   ],
   "source": [
    "train_features_frame = pandas.DataFrame(train_features, columns=iris_reader.feature_names)\n",
    "train_features_frame.head()"
   ]
  },
  {
   "cell_type": "markdown",
   "metadata": {},
   "source": [
    "## 导入knn模型,并测试\n",
    "\n",
    "norm=False, 数据不做归一化处理\n",
    "\n",
    "由于数据数值之间分布差异较大,所以较大数值对结果影响较大,结果并不理想"
   ]
  },
  {
   "cell_type": "code",
   "execution_count": 7,
   "metadata": {},
   "outputs": [
    {
     "name": "stdout",
     "output_type": "stream",
     "text": [
      "2 --- 1\n",
      "1 --- 2\n",
      "1 --- 2\n",
      "2 --- 1\n",
      "0 --- 2\n",
      "0 --- 2\n",
      "1 --- 2\n",
      "2 --- 1\n",
      "1 --- 2\n",
      "1 --- 2\n",
      "0 --- 1\n",
      "2 --- 1\n",
      "2 --- 1\n",
      "acc : 63.89%\n"
     ]
    }
   ],
   "source": [
    "fn = knn(samples=train_features,labels=train_labels,k=5, norm=False)\n",
    "unacc = 0\n",
    "for test_feature, test_label in zip(test_features,test_labels):\n",
    "\n",
    "    label = fn(test_feature)\n",
    "    if label != test_label:\n",
    "        print(label, '---',test_label)\n",
    "        unacc+=1\n",
    "\n",
    "print(\"acc : {:.2f}%\".format((1-unacc/len(test_labels))*100))"
   ]
  },
  {
   "cell_type": "markdown",
   "metadata": {},
   "source": [
    "## 归一化处理后\n",
    "norm=False, 数据不做归一化处理\n",
    "\n",
    "由于数据数值之间分布差异较大,对数据进行归一化处理后,结果有明显提升."
   ]
  },
  {
   "cell_type": "code",
   "execution_count": 8,
   "metadata": {},
   "outputs": [
    {
     "name": "stdout",
     "output_type": "stream",
     "text": [
      "0 --- 1\n",
      "acc : 97.22%\n"
     ]
    }
   ],
   "source": [
    "fn = knn(samples=train_features,labels=train_labels,k=5, norm=True)\n",
    "unacc = 0\n",
    "for test_feature, test_label in zip(test_features,test_labels):\n",
    "\n",
    "    label = fn(test_feature)\n",
    "    if label != test_label:\n",
    "        print(label, '---',test_label)\n",
    "        unacc+=1\n",
    "\n",
    "print(\"acc : {:.2f}%\".format((1-unacc/len(test_labels))*100))"
   ]
  }
 ],
 "metadata": {
  "kernelspec": {
   "display_name": "Python 3",
   "language": "python",
   "name": "python3"
  },
  "language_info": {
   "codemirror_mode": {
    "name": "ipython",
    "version": 3
   },
   "file_extension": ".py",
   "mimetype": "text/x-python",
   "name": "python",
   "nbconvert_exporter": "python",
   "pygments_lexer": "ipython3",
   "version": "3.7.3"
  }
 },
 "nbformat": 4,
 "nbformat_minor": 2
}
