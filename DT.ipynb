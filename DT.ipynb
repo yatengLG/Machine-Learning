{
 "cells": [
  {
   "cell_type": "code",
   "execution_count": 1,
   "metadata": {},
   "outputs": [],
   "source": [
    "from DT import decision_tree\n",
    "import numpy as np"
   ]
  },
  {
   "cell_type": "markdown",
   "metadata": {},
   "source": [
    "# 决策树\n",
    "\n",
    "本项目实现的决策树,基于信息增益进行特征选择,主要针对离散特征进行分类.\n",
    "\n",
    "(如需对连续特征以及缺失特征进行处理,可以参照项目离散特征的实现方式进行添加.)"
   ]
  },
  {
   "cell_type": "markdown",
   "metadata": {},
   "source": [
    "## 一.例子1 贷款数据集"
   ]
  },
  {
   "cell_type": "markdown",
   "metadata": {},
   "source": [
    "### 1.新建样本集,用于建树"
   ]
  },
  {
   "cell_type": "code",
   "execution_count": 2,
   "metadata": {},
   "outputs": [],
   "source": [
    "samples = np.array([['年龄', '有无工作', '有无房', '信誉', '是否给予贷款'],\n",
    "                    ['青年', '无', '否', '一般', '否'],\n",
    "                    ['青年', '无', '否', '好', '否'],\n",
    "                    ['青年', '有', '否', '好', '是'],\n",
    "                    ['青年', '有', '是', '一般', '是'],\n",
    "                    ['青年', '无', '否', '一般', '否'],\n",
    "                    ['中年', '无', '否', '一般', '否'],\n",
    "                    ['中年', '无', '否', '好', '否'],\n",
    "                    ['中年', '有', '是', '好', '是'],\n",
    "                    ['中年', '无', '是', '非常好', '是'],\n",
    "                    ['中年', '无', '是', '非常好', '是'],\n",
    "                    ['老年', '无', '是', '非常好', '是'],\n",
    "                    ['老年', '无', '是', '好', '是'],\n",
    "                    ['老年', '有', '否', '好', '是'],\n",
    "                    ['老年', '有', '否', '非常好', '是'],\n",
    "                    ['老年', '无', '是', '一般', '否']\n",
    "                   ])"
   ]
  },
  {
   "cell_type": "markdown",
   "metadata": {},
   "source": [
    "### 2.初始化一个输入"
   ]
  },
  {
   "cell_type": "code",
   "execution_count": 3,
   "metadata": {},
   "outputs": [],
   "source": [
    "x = [['年龄', '有无工作', '有无房', '信誉'],\n",
    "     ['中年', '有', '是', '一般']]"
   ]
  },
  {
   "cell_type": "markdown",
   "metadata": {},
   "source": [
    "### 3.使用样本集,实例化决策树,并传入数据,进行预测"
   ]
  },
  {
   "cell_type": "code",
   "execution_count": 4,
   "metadata": {},
   "outputs": [
    {
     "name": "stdout",
     "output_type": "stream",
     "text": [
      "['是']\n"
     ]
    }
   ],
   "source": [
    "dt = decision_tree(samples)\n",
    "y = dt(x)\n",
    "print(y)"
   ]
  },
  {
   "cell_type": "markdown",
   "metadata": {},
   "source": [
    "### 4.你也可以打印,观察决策树结构"
   ]
  },
  {
   "cell_type": "code",
   "execution_count": 5,
   "metadata": {},
   "outputs": [
    {
     "name": "stdout",
     "output_type": "stream",
     "text": [
      "{'信誉': {'一般': {'有无工作': {'有': ['是'], '无': '否'}}, '非常好': '是', '好': {'有无工作': {'有': '是', '无': {'有无房': {'是': ['是'], '否': '否'}}}}}}\n"
     ]
    }
   ],
   "source": [
    "print(dt.tree)"
   ]
  },
  {
   "cell_type": "markdown",
   "metadata": {},
   "source": [
    "## 二.例子2 西瓜数据集"
   ]
  },
  {
   "cell_type": "markdown",
   "metadata": {},
   "source": [
    "### 1.新建样本集,用于建树"
   ]
  },
  {
   "cell_type": "code",
   "execution_count": 6,
   "metadata": {},
   "outputs": [],
   "source": [
    "samples = np.array([['色泽', '根蒂', '敲声', '纹理', '脐部', '触感', '是否好瓜'],\n",
    "                    ['青绿', '蜷缩', '浊响', '清晰', '凹陷', '硬滑', '是'],\n",
    "                    ['乌黑', '蜷缩', '沉闷', '清晰', '凹陷', '硬滑', '是'],\n",
    "                    ['乌黑', '蜷缩', '浊响', '清晰', '凹陷', '硬滑', '是'],\n",
    "                    ['青绿', '蜷缩', '沉闷', '清晰', '凹陷', '硬滑', '是'],\n",
    "                    ['浅白', '蜷缩', '浊响', '清晰', '凹陷', '硬滑', '是'],\n",
    "                    ['青绿', '稍蜷', '浊响', '清晰', '稍凹', '软粘', '是'],\n",
    "                    ['乌黑', '稍蜷', '浊响', '稍糊', '稍凹', '软粘', '是'],\n",
    "                    ['乌黑', '稍蜷', '浊响', '清晰', '稍凹', '硬滑', '是'],\n",
    "                    ['乌黑', '稍蜷', '沉闷', '稍糊', '稍凹', '硬滑', '否'],\n",
    "                    ['青绿', '硬挺', '清脆', '清晰', '平坦', '软粘', '否'],\n",
    "                    ['浅白', '硬挺', '清脆', '模糊', '平坦', '硬滑', '否'],\n",
    "                    ['浅白', '蜷缩', '浊响', '模糊', '平坦', '软粘', '否'],\n",
    "                    ['青绿', '稍蜷', '浊响', '稍糊', '凹陷', '硬滑', '否'],\n",
    "                    ['浅白', '稍蜷', '沉闷', '稍糊', '凹陷', '硬滑', '否'],\n",
    "                    ['乌黑', '稍蜷', '浊响', '清晰', '稍凹', '软粘', '否'],\n",
    "                    ['浅白', '蜷缩', '浊响', '模糊', '平坦', '硬滑', '否'],\n",
    "                    ['青绿', '蜷缩', '沉闷', '稍糊', '稍凹', '硬滑', '否'],\n",
    "                   ])"
   ]
  },
  {
   "cell_type": "markdown",
   "metadata": {},
   "source": [
    "### 2.初始化一个输入"
   ]
  },
  {
   "cell_type": "code",
   "execution_count": 7,
   "metadata": {},
   "outputs": [],
   "source": [
    "x = [['色泽', '根蒂', '敲声', '纹理', '脐部', '触感'],\n",
    "     ['浅白', '蜷缩', '浊响', '清晰', '稍凹', '硬滑']]"
   ]
  },
  {
   "cell_type": "markdown",
   "metadata": {},
   "source": [
    "### 3.使用样本集,实例化决策树,并传入数据,进行预测"
   ]
  },
  {
   "cell_type": "code",
   "execution_count": 8,
   "metadata": {},
   "outputs": [
    {
     "name": "stdout",
     "output_type": "stream",
     "text": [
      "是\n"
     ]
    }
   ],
   "source": [
    "dt = decision_tree(samples)\n",
    "y = dt(x)\n",
    "print(y)"
   ]
  },
  {
   "cell_type": "markdown",
   "metadata": {},
   "source": [
    "### 4.你也可以打印,观察决策树结构"
   ]
  },
  {
   "cell_type": "code",
   "execution_count": 9,
   "metadata": {},
   "outputs": [
    {
     "name": "stdout",
     "output_type": "stream",
     "text": [
      "{'纹理': {'模糊': '否', '稍糊': {'触感': {'硬滑': '否', '软粘': ['是']}}, '清晰': {'触感': {'硬滑': '是', '软粘': {'脐部': {'平坦': ['否'], '稍凹': {'色泽': {'乌黑': ['否'], '青绿': ['是']}}}}}}}}\n"
     ]
    }
   ],
   "source": [
    "print(dt.tree)"
   ]
  }
 ],
 "metadata": {
  "kernelspec": {
   "display_name": "Python 3",
   "language": "python",
   "name": "python3"
  },
  "language_info": {
   "codemirror_mode": {
    "name": "ipython",
    "version": 3
   },
   "file_extension": ".py",
   "mimetype": "text/x-python",
   "name": "python",
   "nbconvert_exporter": "python",
   "pygments_lexer": "ipython3",
   "version": "3.7.3"
  }
 },
 "nbformat": 4,
 "nbformat_minor": 2
}
