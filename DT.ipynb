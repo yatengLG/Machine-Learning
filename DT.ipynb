{
 "cells": [
  {
   "cell_type": "code",
   "execution_count": 1,
   "metadata": {},
   "outputs": [],
   "source": [
    "from DT import decision_tree\n",
    "import numpy as np"
   ]
  },
  {
   "cell_type": "markdown",
   "metadata": {},
   "source": [
    "# 决策树"
   ]
  },
  {
   "cell_type": "markdown",
   "metadata": {},
   "source": [
    "### 一.新建样本集,用于建树"
   ]
  },
  {
   "cell_type": "code",
   "execution_count": 2,
   "metadata": {},
   "outputs": [],
   "source": [
    "samples = np.array([['年龄', '有无工作', '有无房', '信誉', '是否给予贷款'],\n",
    "                     ['青年', '无', '否', '一般', '否'],\n",
    "                     ['青年', '无', '否', '好', '否'],\n",
    "                     ['青年', '有', '否', '好', '是'],\n",
    "                     ['青年', '有', '是', '一般', '是'],\n",
    "                     ['青年', '无', '否', '一般', '否'],\n",
    "                     ['中年', '无', '否', '一般', '否'],\n",
    "                     ['中年', '无', '否', '好', '否'],\n",
    "                     ['中年', '有', '是', '好', '是'],\n",
    "                     ['中年', '无', '是', '非常好', '是'],\n",
    "                     ['中年', '无', '是', '非常好', '是'],\n",
    "                     ['老年', '无', '是', '非常好', '是'],\n",
    "                     ['老年', '无', '是', '好', '是'],\n",
    "                     ['老年', '有', '否', '好', '是'],\n",
    "                     ['老年', '有', '否', '非常好', '是'],\n",
    "                     ['老年', '无', '是', '一般', '否']])"
   ]
  },
  {
   "cell_type": "markdown",
   "metadata": {},
   "source": [
    "### 二.初始化一个输入"
   ]
  },
  {
   "cell_type": "code",
   "execution_count": 3,
   "metadata": {},
   "outputs": [],
   "source": [
    "x = [['年龄', '有无工作', '有无房', '信誉'],\n",
    "     ['中年', '有', '是', '一般']]"
   ]
  },
  {
   "cell_type": "markdown",
   "metadata": {},
   "source": [
    "### 三.使用样本集,实例化决策树,并传入数据,进行预测"
   ]
  },
  {
   "cell_type": "code",
   "execution_count": 4,
   "metadata": {},
   "outputs": [
    {
     "name": "stdout",
     "output_type": "stream",
     "text": [
      "['是']\n"
     ]
    }
   ],
   "source": [
    "dt = decision_tree(samples)\n",
    "y = dt(x)\n",
    "print(y)"
   ]
  },
  {
   "cell_type": "markdown",
   "metadata": {},
   "source": [
    "### 四.你也可以打印,观察决策树结构"
   ]
  },
  {
   "cell_type": "code",
   "execution_count": 5,
   "metadata": {},
   "outputs": [
    {
     "name": "stdout",
     "output_type": "stream",
     "text": [
      "{'信誉': {'非常好': '是', '好': {'有无工作': {'有': '是', '无': {'有无房': {'是': ['是'], '否': '否'}}}}, '一般': {'有无工作': {'有': ['是'], '无': '否'}}}}\n"
     ]
    }
   ],
   "source": [
    "\n",
    "print(dt.tree)"
   ]
  }
 ],
 "metadata": {
  "kernelspec": {
   "display_name": "Python 3",
   "language": "python",
   "name": "python3"
  },
  "language_info": {
   "codemirror_mode": {
    "name": "ipython",
    "version": 3
   },
   "file_extension": ".py",
   "mimetype": "text/x-python",
   "name": "python",
   "nbconvert_exporter": "python",
   "pygments_lexer": "ipython3",
   "version": "3.7.3"
  }
 },
 "nbformat": 4,
 "nbformat_minor": 2
}
