{
 "cells": [
  {
   "cell_type": "code",
   "execution_count": 1,
   "metadata": {},
   "outputs": [],
   "source": [
    "from NBM import naive_bayesian_model\n",
    "import numpy as np"
   ]
  },
  {
   "cell_type": "markdown",
   "metadata": {},
   "source": [
    "# 朴素贝叶斯"
   ]
  },
  {
   "cell_type": "markdown",
   "metadata": {},
   "source": [
    "朴素贝叶斯分类器,假定\"特征条件独立\",通过计算先验概率以及不同特征条件概率,计算样本对属于不同类别的概率,最终取概率最大的作为最终预测值."
   ]
  },
  {
   "cell_type": "markdown",
   "metadata": {},
   "source": [
    "## 一.例子1 西瓜数据集"
   ]
  },
  {
   "cell_type": "markdown",
   "metadata": {},
   "source": [
    "### 1.新建样本集."
   ]
  },
  {
   "cell_type": "code",
   "execution_count": 2,
   "metadata": {},
   "outputs": [],
   "source": [
    "sample = np.array([['色泽', '根蒂', '敲声', '纹理', '脐部', '触感', '密度', '含糖率', '是否好瓜'],\n",
    "                       ['青绿', '蜷缩', '浊响', '清晰', '凹陷', '硬滑', 0.697, 0.460, '是'],\n",
    "                       ['乌黑', '蜷缩', '沉闷', '清晰', '凹陷', '硬滑', 0.774, 0.376, '是'],\n",
    "                       ['乌黑', '蜷缩', '浊响', '清晰', '凹陷', '硬滑', 0.634, 0.264, '是'],\n",
    "                       ['青绿', '蜷缩', '沉闷', '清晰', '凹陷', '硬滑', 0.608, 0.318, '是'],\n",
    "                       ['浅白', '蜷缩', '浊响', '清晰', '凹陷', '硬滑', 0.556, 0.215, '是'],\n",
    "                       ['青绿', '稍蜷', '浊响', '清晰', '稍凹', '软粘', 0.403, 0.237, '是'],\n",
    "                       ['乌黑', '稍蜷', '浊响', '稍糊', '稍凹', '软粘', 0.481, 0.149, '是'],\n",
    "                       ['乌黑', '稍蜷', '浊响', '清晰', '稍凹', '硬滑', 0.437, 0.211, '是'],\n",
    "                       ['乌黑', '稍蜷', '沉闷', '稍糊', '稍凹', '硬滑', 0.666, 0.091, '否'],\n",
    "                       ['青绿', '硬挺', '清脆', '清晰', '平坦', '软粘', 0.243, 0.267, '否'],\n",
    "                       ['浅白', '硬挺', '清脆', '模糊', '平坦', '硬滑', 0.245, 0.057, '否'],\n",
    "                       ['浅白', '蜷缩', '浊响', '模糊', '平坦', '软粘', 0.343, 0.099, '否'],\n",
    "                       ['青绿', '稍蜷', '浊响', '稍糊', '凹陷', '硬滑', 0.639, 0.161, '否'],\n",
    "                       ['浅白', '稍蜷', '沉闷', '稍糊', '凹陷', '硬滑', 0.657, 0.198, '否'],\n",
    "                       ['乌黑', '稍蜷', '浊响', '清晰', '稍凹', '软粘', 0.360, 0.370, '否'],\n",
    "                       ['浅白', '蜷缩', '浊响', '模糊', '平坦', '硬滑', 0.593, 0.042, '否'],\n",
    "                       ['青绿', '蜷缩', '沉闷', '稍糊', '稍凹', '硬滑', 0.719, 0.103, '否'],\n",
    "                       ])"
   ]
  },
  {
   "cell_type": "markdown",
   "metadata": {},
   "source": [
    "### 2.新建一个输入,用于测试"
   ]
  },
  {
   "cell_type": "code",
   "execution_count": 3,
   "metadata": {},
   "outputs": [],
   "source": [
    "x = [['色泽', '根蒂', '敲声', '纹理', '脐部', '触感', '密度', '含糖率'],\n",
    "     ['浅白', '蜷缩', '浊响', '清晰', '稍凹', '硬滑', 0.403, 0.226]]"
   ]
  },
  {
   "cell_type": "markdown",
   "metadata": {},
   "source": [
    "### 3.使用样本集实例化朴素贝叶斯分类器,传入数据,进行预测."
   ]
  },
  {
   "cell_type": "code",
   "execution_count": 4,
   "metadata": {},
   "outputs": [],
   "source": [
    "nbm=naive_bayesian_model(sample)\n",
    "y = nbm(x)\n",
    "print(y)"
   ]
  },
  {
   "cell_type": "markdown",
   "metadata": {},
   "source": [
    "### 4.查看朴素贝叶斯分类器中各先验概率,条件概率信息"
   ]
  },
  {
   "cell_type": "code",
   "execution_count": 5,
   "metadata": {},
   "outputs": [],
   "source": [
    "nbm.prior_P # 类别所对应的先验概率"
   ]
  },
  {
   "cell_type": "code",
   "execution_count": 6,
   "metadata": {},
   "outputs": [],
   "source": [
    "nbm.condition_P # 离散特征分别计算条件概率并存储"
   ]
  },
  {
   "cell_type": "code",
   "execution_count": 7,
   "metadata": {},
   "outputs": [],
   "source": [
    "nbm.series_P # 连续特征 存储其对应的均值与方差"
   ]
  },
  {
   "cell_type": "markdown",
   "metadata": {},
   "source": [
    "## 二.例子2 贷款数据集"
   ]
  },
  {
   "cell_type": "markdown",
   "metadata": {},
   "source": [
    "### 1.新建数据集"
   ]
  },
  {
   "cell_type": "code",
   "execution_count": 8,
   "metadata": {},
   "outputs": [],
   "source": [
    "sample = np.array([['年龄', '有无工作', '有无房', '信誉', '是否给予贷款'],\n",
    "                     ['青年', '无', '否', '一般', '否'],\n",
    "                     ['青年', '无', '否', '好', '否'],\n",
    "                     ['青年', '有', '否', '好', '是'],\n",
    "                     ['青年', '有', '是', '一般', '是'],\n",
    "                     ['青年', '无', '否', '一般', '否'],\n",
    "                     ['中年', '无', '否', '一般', '否'],\n",
    "                     ['中年', '无', '否', '好', '否'],\n",
    "                     ['中年', '有', '是', '好', '是'],\n",
    "                     ['中年', '无', '是', '非常好', '是'],\n",
    "                     ['中年', '无', '是', '非常好', '是'],\n",
    "                     ['老年', '无', '是', '非常好', '是'],\n",
    "                     ['老年', '无', '是', '好', '是'],\n",
    "                     ['老年', '有', '否', '好', '是'],\n",
    "                     ['老年', '有', '否', '非常好', '是'],\n",
    "                     ['老年', '无', '是', '一般', '否']])"
   ]
  },
  {
   "cell_type": "markdown",
   "metadata": {},
   "source": [
    "### 2.新建一个输入,用于测试"
   ]
  },
  {
   "cell_type": "code",
   "execution_count": 9,
   "metadata": {},
   "outputs": [],
   "source": [
    "x = [['年龄', '有无工作', '有无房', '信誉'],\n",
    "     ['中年', '有', '是', '一般']]"
   ]
  },
  {
   "cell_type": "markdown",
   "metadata": {},
   "source": [
    "### 3.使用样本集实例化朴素贝叶斯分类器,传入数据,进行预测."
   ]
  },
  {
   "cell_type": "code",
   "execution_count": 10,
   "metadata": {},
   "outputs": [],
   "source": [
    "nbm=naive_bayesian_model(sample)\n",
    "y = nbm(x)\n",
    "print(y)"
   ]
  },
  {
   "cell_type": "markdown",
   "metadata": {},
   "source": [
    "### 4.查看朴素贝叶斯分类器中各先验概率,条件概率信息"
   ]
  },
  {
   "cell_type": "code",
   "execution_count": 11,
   "metadata": {},
   "outputs": [],
   "source": [
    "nbm.prior_P # 类别所对应的先验概率"
   ]
  },
  {
   "cell_type": "code",
   "execution_count": 12,
   "metadata": {},
   "outputs": [
    {
     "data": {
      "text/plain": [
       "{'是': {'年龄': {'中年': 0.3333333333333333,\n",
       "   '青年': 0.2222222222222222,\n",
       "   '老年': 0.4444444444444444},\n",
       "  '有无工作': {'有': 0.5555555555555556, '无': 0.4444444444444444},\n",
       "  '有无房': {'是': 0.6666666666666666, '否': 0.3333333333333333},\n",
       "  '信誉': {'一般': 0.1111111111111111,\n",
       "   '好': 0.4444444444444444,\n",
       "   '非常好': 0.4444444444444444}},\n",
       " '否': {'年龄': {'中年': 0.3333333333333333, '青年': 0.5, '老年': 0.16666666666666666},\n",
       "  '有无工作': {'有': 0.0, '无': 1.0},\n",
       "  '有无房': {'是': 0.16666666666666666, '否': 0.8333333333333334},\n",
       "  '信誉': {'一般': 0.6666666666666666, '好': 0.3333333333333333, '非常好': 0.0}}}"
      ]
     },
     "execution_count": 12,
     "metadata": {},
     "output_type": "execute_result"
    }
   ],
   "source": [
    "nbm.condition_P # 离散特征分别计算条件概率并存储"
   ]
  },
  {
   "cell_type": "code",
   "execution_count": 13,
   "metadata": {},
   "outputs": [
    {
     "data": {
      "text/plain": [
       "{'是': {}, '否': {}}"
      ]
     },
     "execution_count": 13,
     "metadata": {},
     "output_type": "execute_result"
    }
   ],
   "source": [
    "nbm.series_P # 本样本中并不存在连续特征, 因而为空"
   ]
  }
 ],
 "metadata": {
  "kernelspec": {
   "display_name": "Python 3",
   "language": "python",
   "name": "python3"
  },
  "language_info": {
   "codemirror_mode": {
    "name": "ipython",
    "version": 3
   },
   "file_extension": ".py",
   "mimetype": "text/x-python",
   "name": "python",
   "nbconvert_exporter": "python",
   "pygments_lexer": "ipython3",
   "version": "3.7.3"
  }
 },
 "nbformat": 4,
 "nbformat_minor": 2
}
